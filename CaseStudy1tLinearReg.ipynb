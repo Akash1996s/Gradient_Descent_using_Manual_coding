{
 "cells": [
  {
   "cell_type": "code",
   "execution_count": null,
   "metadata": {},
   "outputs": [],
   "source": [
    "''' \n",
    "You will be building  - Linear Regression. But before you build a model, \n",
    "you will need to have a method to extract the data and process it in your data frames and convert to numpy.  Y0ou have already\n",
    "Complete the functions, readdata (similar to assignment 2), train, classify and LinRegaccuracy.\n",
    "I have called the functions in the main program.\n",
    "\n",
    "NASA data set, obtained from a series of aerodynamic and acoustic tests of two and three-dimensional airfoil blade \n",
    "sections conducted in an anechoic wind tunnel. The data set comprises different size NACA 0012 airfoils at various wind \n",
    "tunnel speeds and angles of attack. The span of the airfoil and the observer position were the same in all of the experiments. \n",
    "The data set has 6 attributes as given below. \n",
    "Now you will read a dataset for Machine Learning using pandas\n",
    "filename = \"airfoil_self_noise.dat.txt\"\n",
    "This is tab separated file with headers\n",
    "Use appropriate command to read this data file and store the data into dataframe.\n",
    "After that convert it to numpy\n",
    "Then use numpy to split the data into training and test set.\n",
    "The training data should have 80% of data, and the test data should ahve 20% data.\n",
    "DO NOT USE SKLEARN LIBRARY\n",
    "Details of Data set:\n",
    "Attribute Information:\n",
    "\n",
    "This problem has the following inputs:\n",
    "(Attributes 1 to 5 form X_data) \n",
    "1. Frequency, in Hertzs. \n",
    "2. Angle of attack, in degrees. \n",
    "3. Chord length, in meters. \n",
    "4. Free-stream velocity, in meters per second. \n",
    "5. Suction side displacement thickness, in meters. \n",
    "\n",
    "The only output is (and Y_data): \n",
    "6. Scaled sound pressure level, in decibels. \n",
    "'''"
   ]
  },
  {
   "cell_type": "code",
   "execution_count": 1,
   "metadata": {},
   "outputs": [],
   "source": [
    "import pandas as pd\n",
    "import numpy as np\n",
    "from sklearn.model_selection import train_test_split\n",
    "from sklearn.metrics import mean_squared_error\n",
    "from sklearn.metrics import accuracy_score"
   ]
  },
  {
   "cell_type": "code",
   "execution_count": 2,
   "metadata": {},
   "outputs": [],
   "source": [
    "def readdata(filename, cols, delim = \"\\t\"):    \n",
    "    df = pd.read_csv(filename, delimiter=delim, names = cols)\n",
    "    print(df.head())\n",
    "    df.columns = cols\n",
    "    features = cols[:len(cols)-1] #df.columns [:len(df.columns) - 1]\n",
    "\n",
    "    y_label = [cols[len(cols)-1]]\n",
    "    x_df = df[features]\n",
    "    y_df = df[y_label]\n",
    "    #x_df = (x_df - x_df.mean()) / x_df.std() #Dangerous as if any is 0 then you get nan\n",
    "\n",
    "    x_data_set = np.array(pd.DataFrame(x_df, columns=features))\n",
    "    y_data_set = np.array(pd.DataFrame(y_df, columns=y_label))\n",
    "    x_mean = np.mean(x_data_set, axis=0)\n",
    "    x_std = np.std(x_data_set, axis=0)\n",
    "    for i in range (x_data_set.shape[1]):\n",
    "        x_data_set [:,i] -= x_mean[i]\n",
    "        if (x_std[i] != 0):\n",
    "            x_data_set [:,i]/= x_std[i]\n",
    "\n",
    "    x_data_train, x_data_test, y_data_train, y_data_test = train_test_split(\n",
    "        x_data_set, y_data_set, test_size=0.35, shuffle=False)\n",
    "    \n",
    "    return x_data_train, y_data_train, x_data_test, y_data_test\n"
   ]
  },
  {
   "cell_type": "code",
   "execution_count": 3,
   "metadata": {},
   "outputs": [
    {
     "name": "stdout",
     "output_type": "stream",
     "text": [
      "   Frequency  AngleOfAttack  ChordLength  FreeStreamVelocity  \\\n",
      "0        800            0.0       0.3048                71.3   \n",
      "1       1000            0.0       0.3048                71.3   \n",
      "2       1250            0.0       0.3048                71.3   \n",
      "3       1600            0.0       0.3048                71.3   \n",
      "4       2000            0.0       0.3048                71.3   \n",
      "\n",
      "   SuctionSideDisplacementThickness  ScaledSoundPressureLevel  \n",
      "0                          0.002663                   126.201  \n",
      "1                          0.002663                   125.201  \n",
      "2                          0.002663                   125.951  \n",
      "3                          0.002663                   127.591  \n",
      "4                          0.002663                   127.461  \n",
      "[[-0.6620227  -1.14640293  1.79929926  1.31293526 -0.64480461]\n",
      " [-0.59856135 -1.14640293  1.79929926  1.31293526 -0.64480461]\n",
      " [-0.51923465 -1.14640293  1.79929926  1.31293526 -0.64480461]\n",
      " [-0.40817728 -1.14640293  1.79929926  1.31293526 -0.64480461]\n",
      " [-0.28125457 -1.14640293  1.79929926  1.31293526 -0.64480461]]\n",
      "<class 'numpy.ndarray'> (976, 5) (527, 5) (976, 1) (527, 1)\n"
     ]
    }
   ],
   "source": [
    "cols = ['Frequency', 'AngleOfAttack', 'ChordLength', 'FreeStreamVelocity', 'SuctionSideDisplacementThickness', 'ScaledSoundPressureLevel']\n",
    "x_data_train, y_data_train, x_data_test, y_data_test = readdata('airfoil_self_noise.dat.txt', cols)\n",
    "print (x_data_train[0:5])\n",
    "print (type(x_data_train), x_data_train.shape, x_data_test.shape, y_data_train.shape,y_data_test.shape)"
   ]
  },
  {
   "cell_type": "code",
   "execution_count": 4,
   "metadata": {
    "scrolled": true
   },
   "outputs": [
    {
     "data": {
      "text/plain": [
       "(976, 5)"
      ]
     },
     "execution_count": 4,
     "metadata": {},
     "output_type": "execute_result"
    }
   ],
   "source": [
    "x_data_train.shape"
   ]
  },
  {
   "cell_type": "code",
   "execution_count": 94,
   "metadata": {},
   "outputs": [],
   "source": [
    "def train( x_data_train, y_data_train, l_rate, iterations):\n",
    "    #Initialize W, b to 0 using np.zeros(), W.shape = (5,1), b.shape = (1,)\n",
    "    W,b = np.zeros((x_data_train.shape[1],1)), np.zeros((1,))\n",
    "    prevcost = 0\n",
    "    numcost = 0\n",
    "    #Iterate over \"iterations\" times in a for loop\n",
    "    for i in range(iterations):\n",
    "        hypo = np.dot(x_data_train,W)+b\n",
    "        delta = hypo - y_data_train\n",
    "        cost = np.sum(np.power(delta,2))/2*len(x_data_train)\n",
    "        deltacost = cost - prevcost\n",
    "        #print(i,cost)\n",
    "        dw = np.dot(x_data_train.T,delta)/len(x_data_train)\n",
    "        W = W-l_rate*dw\n",
    "        b = b - np.sum((l_rate*delta))/len(x_data_train)\n",
    "        prevcost = cost\n",
    "        if np.abs(deltacost) < 0.0003:\n",
    "            numcount +=1\n",
    "        else: \n",
    "            numcount=0\n",
    "    return W, b"
   ]
  },
  {
   "cell_type": "code",
   "execution_count": 103,
   "metadata": {},
   "outputs": [],
   "source": [
    "def classify(x_data_test, W, b):\n",
    "    return np.dot(x_data_test,W)+b"
   ]
  },
  {
   "cell_type": "code",
   "execution_count": 101,
   "metadata": {},
   "outputs": [],
   "source": [
    "def LinRegaccuracy(y_data_test, y_pred_test):\n",
    "\n",
    "    total_error = 0\n",
    "    for i in range(0, len(y_data_test)):\n",
    "        errSet= abs((y_pred_test[i] - y_data_test[i]) / y_data_test[i])\n",
    "        total_error += errSet\n",
    "    total_error = (total_error / len(y_data_test))\n",
    "    accuracyScore = 1 - total_error\n",
    "    return accuracyScore"
   ]
  },
  {
   "cell_type": "code",
   "execution_count": 104,
   "metadata": {},
   "outputs": [
    {
     "name": "stdout",
     "output_type": "stream",
     "text": [
      "   Frequency  AngleOfAttack  ChordLength  FreeStreamVelocity  \\\n",
      "0        800            0.0       0.3048                71.3   \n",
      "1       1000            0.0       0.3048                71.3   \n",
      "2       1250            0.0       0.3048                71.3   \n",
      "3       1600            0.0       0.3048                71.3   \n",
      "4       2000            0.0       0.3048                71.3   \n",
      "\n",
      "   SuctionSideDisplacementThickness  ScaledSoundPressureLevel  \n",
      "0                          0.002663                   126.201  \n",
      "1                          0.002663                   125.201  \n",
      "2                          0.002663                   125.951  \n",
      "3                          0.002663                   127.591  \n",
      "4                          0.002663                   127.461  \n",
      "accuracy train:  [0.97469264] accuracy test:  <function LinRegaccuracy at 0x000001A15E582798>\n",
      "MSE test:  38.316887949120236\n",
      "MSE train:  16.12674473754933\n"
     ]
    }
   ],
   "source": [
    "cols = ['Frequency', 'AngleOfAttack', 'ChordLength', 'FreeStreamVelocity', 'SuctionSideDisplacementThickness', 'ScaledSoundPressureLevel']\n",
    "x_data_train, y_data_train, x_data_test, y_data_test = readdata('airfoil_self_noise.dat.txt', cols)\n",
    "\n",
    "W, b = train(x_data_train, y_data_train, 0.001, 60000)\n",
    "y_prediction_train = classify(x_data_train, W, b)\n",
    "y_prediction_test = classify(x_data_test, W, b)\n",
    "\n",
    "accuracy_test = LinRegaccuracy(y_data_test, y_prediction_test)\n",
    "accuracy_train = LinRegaccuracy(y_data_train, y_prediction_train)\n",
    "\n",
    "print(\"accuracy train: \", accuracy_train, \"accuracy test: \", LinRegaccuracy)\n",
    "# print (\"Sklearn Accuracy score=Training\", accuracy_score(list(y_prediction_train),list( y_data_train)))\n",
    "# print (\"Sklearn Accuracy score=Testing\", accuracy_score(y_prediction_test, y_data_test))\n",
    "print(\"MSE test: \", mean_squared_error(y_data_test, y_prediction_test))\n",
    "print(\"MSE train: \", mean_squared_error(y_data_train, y_prediction_train))\n"
   ]
  },
  {
   "cell_type": "code",
   "execution_count": null,
   "metadata": {},
   "outputs": [],
   "source": []
  }
 ],
 "metadata": {
  "kernelspec": {
   "display_name": "Python 3",
   "language": "python",
   "name": "python3"
  },
  "language_info": {
   "codemirror_mode": {
    "name": "ipython",
    "version": 3
   },
   "file_extension": ".py",
   "mimetype": "text/x-python",
   "name": "python",
   "nbconvert_exporter": "python",
   "pygments_lexer": "ipython3",
   "version": "3.7.6"
  }
 },
 "nbformat": 4,
 "nbformat_minor": 2
}
